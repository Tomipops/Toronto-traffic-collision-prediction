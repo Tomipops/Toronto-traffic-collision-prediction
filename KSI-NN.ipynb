{
 "cells": [
  {
   "cell_type": "code",
   "execution_count": 1,
   "id": "1ad35920-7ab6-43e1-876b-1084fbd5ba87",
   "metadata": {},
   "outputs": [],
   "source": [
    "import pandas as pd\n",
    "import numpy as np\n",
    "import seaborn as sns\n",
    "import matplotlib.pyplot as plt\n",
    "from sklearn.metrics import confusion_matrix\n",
    "from sklearn.model_selection import train_test_split\n",
    "from sklearn.neural_network import MLPClassifier\n",
    "from dmba import classificationSummary\n",
    "from sklearn.preprocessing import MinMaxScaler\n",
    "from statsmodels.stats.outliers_influence import variance_inflation_factor\n",
    "from sklearn.impute import SimpleImputer"
   ]
  },
  {
   "cell_type": "markdown",
   "id": "6e779fbe-16b9-4b79-9e60-d89c5ff176ae",
   "metadata": {},
   "source": [
    "## DATA PREPROCESSING ##"
   ]
  },
  {
   "cell_type": "markdown",
   "id": "a777ef2c-af62-4b33-809f-a51436d7e467",
   "metadata": {},
   "source": [
    "<h3 align=\"center\">Load Data</h3>"
   ]
  },
  {
   "cell_type": "code",
   "execution_count": 2,
   "id": "b3672317-8c76-4b30-9e69-a836e517ea9a",
   "metadata": {},
   "outputs": [],
   "source": [
    "KSI_df= pd.read_csv('TOTAL_KSI_USE.csv',index_col=0)"
   ]
  },
  {
   "cell_type": "code",
   "execution_count": 3,
   "id": "ac31361f-99e4-4b3e-9811-c26a49b18fbd",
   "metadata": {},
   "outputs": [
    {
     "name": "stdout",
     "output_type": "stream",
     "text": [
      "<class 'pandas.core.frame.DataFrame'>\n",
      "Index: 4739 entries, 14218 to 18956\n",
      "Data columns (total 16 columns):\n",
      " #   Column             Non-Null Count  Dtype  \n",
      "---  ------             --------------  -----  \n",
      " 0   DATE               4739 non-null   object \n",
      " 1   STREET1            4739 non-null   object \n",
      " 2   STREET2            4293 non-null   object \n",
      " 3   DISTRICT           4524 non-null   object \n",
      " 4   LATITUDE           4739 non-null   float64\n",
      " 5   LONGITUDE          4739 non-null   float64\n",
      " 6   TRAFFCTL           4693 non-null   object \n",
      " 7   VISIBILITY         4717 non-null   object \n",
      " 8   LIGHT              4735 non-null   object \n",
      " 9   RDSFCOND           4717 non-null   object \n",
      " 10  ACCLASS            4738 non-null   object \n",
      " 11  IMPACTYPE          4712 non-null   object \n",
      " 12  INVTYPE            4730 non-null   object \n",
      " 13  INVAGE             4739 non-null   object \n",
      " 14  INJURY             2690 non-null   object \n",
      " 15  NEIGHBOURHOOD_158  4739 non-null   object \n",
      "dtypes: float64(2), object(14)\n",
      "memory usage: 629.4+ KB\n"
     ]
    }
   ],
   "source": [
    "KSI_df.info()\n",
    "# remove trailing spaces from column names \n",
    "KSI_df.columns = KSI_df.columns.str.strip()"
   ]
  },
  {
   "cell_type": "markdown",
   "id": "633ba17f-bba4-4442-b905-52f39caf8700",
   "metadata": {},
   "source": [
    "<h3 align=\"center\">Drop Columns</h3>"
   ]
  },
  {
   "cell_type": "code",
   "execution_count": 4,
   "id": "2ba1ea7c-a6c0-40a5-b72e-c1f73f4555b2",
   "metadata": {},
   "outputs": [],
   "source": [
    "# Drop date colun\n",
    "KSI_df= KSI_df.drop('DATE', axis =1)"
   ]
  },
  {
   "cell_type": "markdown",
   "id": "6a1cb76c-136d-463f-acdb-c363e48f6ac5",
   "metadata": {},
   "source": [
    "<h3 align=\"center\">Checking for Missing Values</h3>"
   ]
  },
  {
   "cell_type": "code",
   "execution_count": 5,
   "id": "7aacfa64-edba-491b-8ecd-b4af73e30879",
   "metadata": {},
   "outputs": [
    {
     "data": {
      "text/plain": [
       "STREET1               0.0000\n",
       "STREET2               9.4113\n",
       "DISTRICT              4.5368\n",
       "LATITUDE              0.0000\n",
       "LONGITUDE             0.0000\n",
       "TRAFFCTL              0.9707\n",
       "VISIBILITY            0.4642\n",
       "LIGHT                 0.0844\n",
       "RDSFCOND              0.4642\n",
       "ACCLASS               0.0211\n",
       "IMPACTYPE             0.5697\n",
       "INVTYPE               0.1899\n",
       "INVAGE                0.0000\n",
       "INJURY               43.2370\n",
       "NEIGHBOURHOOD_158     0.0000\n",
       "dtype: float64"
      ]
     },
     "execution_count": 5,
     "metadata": {},
     "output_type": "execute_result"
    }
   ],
   "source": [
    "# Assess the percentage of null values\n",
    "null_values = round((KSI_df.isnull().sum()/KSI_df.shape[0])*100,4)\n",
    "null_values"
   ]
  },
  {
   "cell_type": "markdown",
   "id": "441488b7-40ae-4f10-aa6b-6a47ea0e4033",
   "metadata": {},
   "source": [
    "<h3 align=\"center\">Check Duplicates</h3>"
   ]
  },
  {
   "cell_type": "code",
   "execution_count": 6,
   "id": "9abfdcdf-f889-4306-a978-08906e6e0803",
   "metadata": {},
   "outputs": [
    {
     "name": "stdout",
     "output_type": "stream",
     "text": [
      "The total number of duplicated rows are: 111\n"
     ]
    }
   ],
   "source": [
    "#Check for duplicate values\n",
    "total_duplicates = KSI_df.duplicated().head(18957).sum()\n",
    "print(\"The total number of duplicated rows are:\", total_duplicates)"
   ]
  },
  {
   "cell_type": "markdown",
   "id": "b5dc229c-04ab-4a82-b930-b14094d077ea",
   "metadata": {},
   "source": [
    "<h3 align=\"center\">Drop Duplicates</h3>"
   ]
  },
  {
   "cell_type": "code",
   "execution_count": 7,
   "id": "73c17412-492e-4a7c-9f36-8fb482a1ff57",
   "metadata": {},
   "outputs": [
    {
     "name": "stdout",
     "output_type": "stream",
     "text": [
      "The total number of duplicated rows are: 0\n"
     ]
    }
   ],
   "source": [
    "#Remove duplicated values\n",
    "KSI_df = KSI_df.drop_duplicates()\n",
    "total_duplicates = KSI_df.duplicated().head(18957).sum()\n",
    "print(\"The total number of duplicated rows are:\", total_duplicates)"
   ]
  },
  {
   "cell_type": "markdown",
   "id": "bffdbb66-932f-4fd2-90ad-569f35d2134d",
   "metadata": {},
   "source": [
    "<h3 align=\"center\">Assess Skewness</h3>"
   ]
  },
  {
   "cell_type": "code",
   "execution_count": 8,
   "id": "028000c0-d331-4bc5-84a1-c9e49e8c59eb",
   "metadata": {},
   "outputs": [
    {
     "name": "stdout",
     "output_type": "stream",
     "text": [
      "The skewness for numerical colums are: LATITUDE     0.256617\n",
      "LONGITUDE    0.114678\n",
      "dtype: float64\n"
     ]
    }
   ],
   "source": [
    "#Check if numerical columns are normal\n",
    "num_col = [col for col in KSI_df.columns if (KSI_df[col].dtype != 'object')& (KSI_df[col].dtype != 'datetime64[ns]') ]\n",
    "skew = KSI_df[num_col].skew()\n",
    "\n",
    "print('The skewness for numerical colums are:', skew)"
   ]
  },
  {
   "cell_type": "markdown",
   "id": "794332a0-398c-4fb6-9709-775c76ee511c",
   "metadata": {},
   "source": [
    "**No columns are skewed given its less than 0.5**"
   ]
  },
  {
   "cell_type": "markdown",
   "id": "c547f58d-f512-4f63-b6a4-c5a693d7a47b",
   "metadata": {},
   "source": [
    "<h3 align=\"center\">Visualizing Skewness</h3>"
   ]
  },
  {
   "cell_type": "code",
   "execution_count": 9,
   "id": "99f7ad7e-7061-4b05-b082-46ad80e8f44e",
   "metadata": {},
   "outputs": [
    {
     "data": {
      "image/png": "[encoded data removed]",
      "text/plain": [
       "<Figure size 1200x800 with 2 Axes>"
      ]
     },
     "metadata": {},
     "output_type": "display_data"
    }
   ],
   "source": [
    "fig,axes = plt.subplots(1, 2,figsize=(12, 8)) \n",
    "\n",
    "#Create a histogram for the entire DataFrame\n",
    "sns.histplot(KSI_df['LATITUDE'],ax=axes[0],kde=True, color='green', bins=30).set_title('Distribution of LATITUDE')\n",
    "sns.histplot(KSI_df['LONGITUDE'],ax=axes[1],kde=True, color='purple', bins=30).set_title('Distribution of LONGITUDE')\n",
    "\n",
    "\n",
    "# Show the plot\n",
    "plt.show()"
   ]
  },
  {
   "cell_type": "markdown",
   "id": "d2d15181-767e-41ff-9480-06a029b3db4e",
   "metadata": {},
   "source": [
    "<h3 align=\"center\">Check for Outliers</h3>"
   ]
  },
  {
   "cell_type": "code",
   "execution_count": 10,
   "id": "750d609a-af99-4efa-bb4f-55441c98fb72",
   "metadata": {},
   "outputs": [
    {
     "data": {
      "image/png": "[encoded data removed]",
      "text/plain": [
       "<Figure size 2000x800 with 2 Axes>"
      ]
     },
     "metadata": {},
     "output_type": "display_data"
    }
   ],
   "source": [
    "#Check for Outliers\n",
    "fig, axes = plt.subplots(1, 2,figsize=(20, 8)) \n",
    "\n",
    "#Create a box plot for the entire DataFrame\n",
    "sns.boxplot(KSI_df['LATITUDE'],ax=axes[0]).set_title('Latitude')\n",
    "sns.boxplot(KSI_df['LONGITUDE'],ax=axes[1]).set_title('Longitude')\n",
    "\n",
    "# Show the plot\n",
    "plt.show()"
   ]
  },
  {
   "cell_type": "markdown",
   "id": "37866f5f-8691-4a5a-bbc2-ca20f28b6fd8",
   "metadata": {},
   "source": [
    "**There were no outliers present among numerical variables**"
   ]
  },
  {
   "cell_type": "markdown",
   "id": "97a03ce6-45eb-4cc0-a8bd-effae60d38c7",
   "metadata": {},
   "source": [
    "## FEATURE ENGINEERING ##"
   ]
  },
  {
   "cell_type": "markdown",
   "id": "7b56ec0a-99d7-4e36-9d65-0c5ebf79271f",
   "metadata": {},
   "source": [
    "<h3 align=\"center\">Modal Imputation</h3>"
   ]
  },
  {
   "cell_type": "code",
   "execution_count": 11,
   "id": "3f9a7ec2-108b-4511-8720-b9b85cf45c22",
   "metadata": {},
   "outputs": [],
   "source": [
    "#For object columns with null values, do modal imputation using Simple Imputer\n",
    "obj_col = [col for col in KSI_df.columns if KSI_df[col].dtype == 'object']\n",
    "\n",
    "# The Imputer object uses the mode strategy as data is categorical\n",
    "imputer = SimpleImputer(strategy ='most_frequent')\n",
    "\n",
    "# Fitting the data to the imputer object\n",
    "KSI_df[obj_col] = imputer.fit_transform(KSI_df[obj_col])"
   ]
  },
  {
   "cell_type": "markdown",
   "id": "46220f21-643b-443a-852c-c7f018e0f197",
   "metadata": {},
   "source": [
    "<h3 align=\"center\">Check Missing Values After Imputation</h3>"
   ]
  },
  {
   "cell_type": "code",
   "execution_count": 12,
   "id": "cd2804b7-0098-4b6c-86ea-5fc1a3f789c6",
   "metadata": {},
   "outputs": [
    {
     "data": {
      "text/plain": [
       "STREET1              0.0\n",
       "STREET2              0.0\n",
       "DISTRICT             0.0\n",
       "LATITUDE             0.0\n",
       "LONGITUDE            0.0\n",
       "TRAFFCTL             0.0\n",
       "VISIBILITY           0.0\n",
       "LIGHT                0.0\n",
       "RDSFCOND             0.0\n",
       "ACCLASS              0.0\n",
       "IMPACTYPE            0.0\n",
       "INVTYPE              0.0\n",
       "INVAGE               0.0\n",
       "INJURY               0.0\n",
       "NEIGHBOURHOOD_158    0.0\n",
       "dtype: float64"
      ]
     },
     "execution_count": 12,
     "metadata": {},
     "output_type": "execute_result"
    }
   ],
   "source": [
    "# Assess the percentage of null values\n",
    "null_values = round((KSI_df.isnull().sum()/KSI_df.shape[0])*100,4)\n",
    "null_values"
   ]
  },
  {
   "cell_type": "markdown",
   "id": "0b82422e-b779-4137-a003-39f4b630640b",
   "metadata": {},
   "source": [
    "<h3 align=\"center\">Isolate Columns for Data Export</h3>"
   ]
  },
  {
   "cell_type": "code",
   "execution_count": 13,
   "id": "5914ff9b-4838-48cf-b9dc-a47e65615544",
   "metadata": {},
   "outputs": [],
   "source": [
    "# Get the DISTRICT values for the test set rows from the original DataFrame\n",
    "district_column = KSI_df['DISTRICT']\n"
   ]
  },
  {
   "cell_type": "markdown",
   "id": "5d09b954-1dd9-49ca-b95a-6283f2a44135",
   "metadata": {},
   "source": [
    "<h3 align=\"center\">One Hot Encoding</h3>"
   ]
  },
  {
   "cell_type": "code",
   "execution_count": 14,
   "id": "d7402d5a-d0c6-4b42-bdf8-67b0b265f286",
   "metadata": {},
   "outputs": [],
   "source": [
    "#Identify all categorical variables\n",
    "cat_variables = [col for col in KSI_df.columns if col != 'NEIGHBOURHOOD_158' and KSI_df[col].dtype != 'float64']\n",
    "\n",
    "#Onehot encoding for independent variables only\n",
    "KSI_df = pd.get_dummies(KSI_df, columns= cat_variables,drop_first=True)\n",
    "\n",
    "#Identify dummy columns and convert boolean values to integers\n",
    "dummy_col = [col for col in KSI_df.columns if KSI_df[col].dtype == 'bool']\n",
    "KSI_df[dummy_col] = KSI_df[dummy_col].astype(int)\n",
    "\n",
    "\n"
   ]
  },
  {
   "cell_type": "code",
   "execution_count": 15,
   "id": "8163f4d4-741c-4985-9d48-395362e9026a",
   "metadata": {},
   "outputs": [
    {
     "data": {
      "text/html": [
       "<div>\n",
       "<style scoped>\n",
       "    .dataframe tbody tr th:only-of-type {\n",
       "        vertical-align: middle;\n",
       "    }\n",
       "\n",
       "    .dataframe tbody tr th {\n",
       "        vertical-align: top;\n",
       "    }\n",
       "\n",
       "    .dataframe thead th {\n",
       "        text-align: right;\n",
       "    }\n",
       "</style>\n",
       "<table border=\"1\" class=\"dataframe\">\n",
       "  <thead>\n",
       "    <tr style=\"text-align: right;\">\n",
       "      <th></th>\n",
       "      <th>LATITUDE</th>\n",
       "      <th>LONGITUDE</th>\n",
       "      <th>NEIGHBOURHOOD_158</th>\n",
       "      <th>STREET1_100 MCLEVIN AVE</th>\n",
       "      <th>STREET1_1035 SHEPPARD AVE W</th>\n",
       "      <th>STREET1_106 BEECH AVE</th>\n",
       "      <th>STREET1_106 LAWRENCE  AVE E</th>\n",
       "      <th>STREET1_107 THE QUEENSWAY</th>\n",
       "      <th>STREET1_1085 ROYAL YORK RD</th>\n",
       "      <th>STREET1_109 DOWNSVIEW  AVE</th>\n",
       "      <th>...</th>\n",
       "      <th>INVAGE_70 to 74</th>\n",
       "      <th>INVAGE_75 to 79</th>\n",
       "      <th>INVAGE_80 to 84</th>\n",
       "      <th>INVAGE_85 to 89</th>\n",
       "      <th>INVAGE_90 to 94</th>\n",
       "      <th>INVAGE_Over 95</th>\n",
       "      <th>INVAGE_unknown</th>\n",
       "      <th>INJURY_Major</th>\n",
       "      <th>INJURY_Minimal</th>\n",
       "      <th>INJURY_Minor</th>\n",
       "    </tr>\n",
       "  </thead>\n",
       "  <tbody>\n",
       "    <tr>\n",
       "      <th>14218</th>\n",
       "      <td>43.692008</td>\n",
       "      <td>-79.361987</td>\n",
       "      <td>Leaside-Bennington</td>\n",
       "      <td>0</td>\n",
       "      <td>0</td>\n",
       "      <td>0</td>\n",
       "      <td>0</td>\n",
       "      <td>0</td>\n",
       "      <td>0</td>\n",
       "      <td>0</td>\n",
       "      <td>...</td>\n",
       "      <td>0</td>\n",
       "      <td>0</td>\n",
       "      <td>0</td>\n",
       "      <td>0</td>\n",
       "      <td>0</td>\n",
       "      <td>0</td>\n",
       "      <td>0</td>\n",
       "      <td>0</td>\n",
       "      <td>0</td>\n",
       "      <td>0</td>\n",
       "    </tr>\n",
       "    <tr>\n",
       "      <th>14219</th>\n",
       "      <td>43.795016</td>\n",
       "      <td>-79.216319</td>\n",
       "      <td>Malvern East</td>\n",
       "      <td>0</td>\n",
       "      <td>0</td>\n",
       "      <td>0</td>\n",
       "      <td>0</td>\n",
       "      <td>0</td>\n",
       "      <td>0</td>\n",
       "      <td>0</td>\n",
       "      <td>...</td>\n",
       "      <td>0</td>\n",
       "      <td>0</td>\n",
       "      <td>0</td>\n",
       "      <td>0</td>\n",
       "      <td>0</td>\n",
       "      <td>0</td>\n",
       "      <td>0</td>\n",
       "      <td>1</td>\n",
       "      <td>0</td>\n",
       "      <td>0</td>\n",
       "    </tr>\n",
       "    <tr>\n",
       "      <th>14220</th>\n",
       "      <td>43.795016</td>\n",
       "      <td>-79.216319</td>\n",
       "      <td>Malvern East</td>\n",
       "      <td>0</td>\n",
       "      <td>0</td>\n",
       "      <td>0</td>\n",
       "      <td>0</td>\n",
       "      <td>0</td>\n",
       "      <td>0</td>\n",
       "      <td>0</td>\n",
       "      <td>...</td>\n",
       "      <td>0</td>\n",
       "      <td>1</td>\n",
       "      <td>0</td>\n",
       "      <td>0</td>\n",
       "      <td>0</td>\n",
       "      <td>0</td>\n",
       "      <td>0</td>\n",
       "      <td>0</td>\n",
       "      <td>1</td>\n",
       "      <td>0</td>\n",
       "    </tr>\n",
       "    <tr>\n",
       "      <th>14223</th>\n",
       "      <td>43.795016</td>\n",
       "      <td>-79.216319</td>\n",
       "      <td>Malvern East</td>\n",
       "      <td>0</td>\n",
       "      <td>0</td>\n",
       "      <td>0</td>\n",
       "      <td>0</td>\n",
       "      <td>0</td>\n",
       "      <td>0</td>\n",
       "      <td>0</td>\n",
       "      <td>...</td>\n",
       "      <td>0</td>\n",
       "      <td>0</td>\n",
       "      <td>0</td>\n",
       "      <td>0</td>\n",
       "      <td>0</td>\n",
       "      <td>0</td>\n",
       "      <td>0</td>\n",
       "      <td>1</td>\n",
       "      <td>0</td>\n",
       "      <td>0</td>\n",
       "    </tr>\n",
       "    <tr>\n",
       "      <th>14224</th>\n",
       "      <td>43.795016</td>\n",
       "      <td>-79.216319</td>\n",
       "      <td>Malvern East</td>\n",
       "      <td>0</td>\n",
       "      <td>0</td>\n",
       "      <td>0</td>\n",
       "      <td>0</td>\n",
       "      <td>0</td>\n",
       "      <td>0</td>\n",
       "      <td>0</td>\n",
       "      <td>...</td>\n",
       "      <td>0</td>\n",
       "      <td>1</td>\n",
       "      <td>0</td>\n",
       "      <td>0</td>\n",
       "      <td>0</td>\n",
       "      <td>0</td>\n",
       "      <td>0</td>\n",
       "      <td>0</td>\n",
       "      <td>1</td>\n",
       "      <td>0</td>\n",
       "    </tr>\n",
       "  </tbody>\n",
       "</table>\n",
       "<p>5 rows × 1851 columns</p>\n",
       "</div>"
      ],
      "text/plain": [
       "        LATITUDE  LONGITUDE   NEIGHBOURHOOD_158  STREET1_100 MCLEVIN AVE  \\\n",
       "14218  43.692008 -79.361987  Leaside-Bennington                        0   \n",
       "14219  43.795016 -79.216319        Malvern East                        0   \n",
       "14220  43.795016 -79.216319        Malvern East                        0   \n",
       "14223  43.795016 -79.216319        Malvern East                        0   \n",
       "14224  43.795016 -79.216319        Malvern East                        0   \n",
       "\n",
       "       STREET1_1035 SHEPPARD AVE W  STREET1_106 BEECH AVE  \\\n",
       "14218                            0                      0   \n",
       "14219                            0                      0   \n",
       "14220                            0                      0   \n",
       "14223                            0                      0   \n",
       "14224                            0                      0   \n",
       "\n",
       "       STREET1_106 LAWRENCE  AVE E  STREET1_107 THE QUEENSWAY  \\\n",
       "14218                            0                          0   \n",
       "14219                            0                          0   \n",
       "14220                            0                          0   \n",
       "14223                            0                          0   \n",
       "14224                            0                          0   \n",
       "\n",
       "       STREET1_1085 ROYAL YORK RD  STREET1_109 DOWNSVIEW  AVE  ...  \\\n",
       "14218                           0                           0  ...   \n",
       "14219                           0                           0  ...   \n",
       "14220                           0                           0  ...   \n",
       "14223                           0                           0  ...   \n",
       "14224                           0                           0  ...   \n",
       "\n",
       "       INVAGE_70 to 74  INVAGE_75 to 79  INVAGE_80 to 84  INVAGE_85 to 89  \\\n",
       "14218                0                0                0                0   \n",
       "14219                0                0                0                0   \n",
       "14220                0                1                0                0   \n",
       "14223                0                0                0                0   \n",
       "14224                0                1                0                0   \n",
       "\n",
       "       INVAGE_90 to 94  INVAGE_Over 95  INVAGE_unknown  INJURY_Major  \\\n",
       "14218                0               0               0             0   \n",
       "14219                0               0               0             1   \n",
       "14220                0               0               0             0   \n",
       "14223                0               0               0             1   \n",
       "14224                0               0               0             0   \n",
       "\n",
       "       INJURY_Minimal  INJURY_Minor  \n",
       "14218               0             0  \n",
       "14219               0             0  \n",
       "14220               1             0  \n",
       "14223               0             0  \n",
       "14224               1             0  \n",
       "\n",
       "[5 rows x 1851 columns]"
      ]
     },
     "execution_count": 15,
     "metadata": {},
     "output_type": "execute_result"
    }
   ],
   "source": [
    "KSI_df.head(5)"
   ]
  },
  {
   "cell_type": "markdown",
   "id": "20d659fd-9ccd-456b-9b89-63448f6a8d09",
   "metadata": {},
   "source": [
    "## NEURAL NETWORK MODEL ##"
   ]
  },
  {
   "cell_type": "markdown",
   "id": "36861a98-fad5-4a6a-896a-02c2000f61d0",
   "metadata": {},
   "source": [
    "<h3 align=\"center\">Train and Test Split</h3>"
   ]
  },
  {
   "cell_type": "code",
   "execution_count": 16,
   "id": "4a3d1e01-a5c9-413b-bf8c-c49583a1cf72",
   "metadata": {},
   "outputs": [],
   "source": [
    "#Identify all independent variables\n",
    "independent_variables = [col for col in KSI_df.columns if col != 'NEIGHBOURHOOD_158' and KSI_df[col].dtype != 'float64']\n",
    "\n",
    "#Independent variables\n",
    "X = KSI_df[independent_variables]\n",
    "\n",
    "#Dependent variable\n",
    "y = KSI_df['NEIGHBOURHOOD_158']\n",
    "\n",
    "# 70 % training data and 30% allocated to the temporary set which will be split into validation and test\n",
    "X_train, X_temp, y_train, y_temp = train_test_split(X, y, test_size = 0.30, random_state=42)\n",
    "\n",
    "\n"
   ]
  },
  {
   "cell_type": "markdown",
   "id": "1044490a-3ed8-4841-aec2-c484438cfd03",
   "metadata": {},
   "source": [
    "<h3 align=\"center\">Model Implementation</h3>"
   ]
  },
  {
   "cell_type": "code",
   "execution_count": 17,
   "id": "2ea88db5-d09b-4c12-8950-b4e2882a17fc",
   "metadata": {},
   "outputs": [
    {
     "name": "stdout",
     "output_type": "stream",
     "text": [
      "['Junction Area' 'Humber Summit' 'Oakwood Village' ... 'Milliken'\n",
      " 'Glenfield-Jane Heights' 'Trinity-Bellwoods']\n"
     ]
    }
   ],
   "source": [
    "\n",
    "\n",
    "clf = MLPClassifier(hidden_layer_sizes=(20), activation='logistic', solver='lbfgs',random_state=42)\n",
    "clf.fit(X_train, y_train)\n",
    "predictions = clf.predict(X_temp)\n",
    "print(predictions)\n",
    "\n"
   ]
  },
  {
   "cell_type": "markdown",
   "id": "48c056fb-368e-4912-8518-023e747f9495",
   "metadata": {},
   "source": [
    "<h3 align=\"center\">Model Evaluation</h3>"
   ]
  },
  {
   "cell_type": "code",
   "execution_count": 18,
   "id": "ebf8c8e0-5118-43e1-bfbb-77d3444f2a8f",
   "metadata": {},
   "outputs": [
    {
     "name": "stdout",
     "output_type": "stream",
     "text": [
      "Accuracy of Model Test: 86.25 %\n"
     ]
    }
   ],
   "source": [
    "from sklearn import metrics \n",
    "print(\"Accuracy of Model Test:\", round(metrics.accuracy_score(y_temp, predictions)*100,2),\"%\")\n"
   ]
  },
  {
   "cell_type": "markdown",
   "id": "f15cea69-d7f3-453d-986d-88c65b915f97",
   "metadata": {},
   "source": [
    "<h3 align=\"center\">Export Results</h3>"
   ]
  },
  {
   "cell_type": "code",
   "execution_count": 19,
   "id": "a420ff64-6a20-4d37-8b28-a2fe47d85da0",
   "metadata": {},
   "outputs": [
    {
     "data": {
      "text/html": [
       "<div>\n",
       "<style scoped>\n",
       "    .dataframe tbody tr th:only-of-type {\n",
       "        vertical-align: middle;\n",
       "    }\n",
       "\n",
       "    .dataframe tbody tr th {\n",
       "        vertical-align: top;\n",
       "    }\n",
       "\n",
       "    .dataframe thead th {\n",
       "        text-align: right;\n",
       "    }\n",
       "</style>\n",
       "<table border=\"1\" class=\"dataframe\">\n",
       "  <thead>\n",
       "    <tr style=\"text-align: right;\">\n",
       "      <th></th>\n",
       "      <th>Prediction</th>\n",
       "      <th>Latitude</th>\n",
       "      <th>Longitude</th>\n",
       "      <th>DISTRICT</th>\n",
       "      <th>ACTUAL</th>\n",
       "    </tr>\n",
       "  </thead>\n",
       "  <tbody>\n",
       "    <tr>\n",
       "      <th>0</th>\n",
       "      <td>Junction Area</td>\n",
       "      <td>43.664412</td>\n",
       "      <td>-79.458736</td>\n",
       "      <td>North York</td>\n",
       "      <td>Junction Area</td>\n",
       "    </tr>\n",
       "    <tr>\n",
       "      <th>1</th>\n",
       "      <td>Humber Summit</td>\n",
       "      <td>43.628871</td>\n",
       "      <td>-79.516948</td>\n",
       "      <td>Etobicoke York</td>\n",
       "      <td>Stonegate-Queensway</td>\n",
       "    </tr>\n",
       "    <tr>\n",
       "      <th>2</th>\n",
       "      <td>Oakwood Village</td>\n",
       "      <td>43.689456</td>\n",
       "      <td>-79.439487</td>\n",
       "      <td>North York</td>\n",
       "      <td>Oakwood Village</td>\n",
       "    </tr>\n",
       "    <tr>\n",
       "      <th>3</th>\n",
       "      <td>Humber Bay Shores</td>\n",
       "      <td>43.614878</td>\n",
       "      <td>-79.488620</td>\n",
       "      <td>Etobicoke York</td>\n",
       "      <td>Humber Bay Shores</td>\n",
       "    </tr>\n",
       "    <tr>\n",
       "      <th>4</th>\n",
       "      <td>Woburn North</td>\n",
       "      <td>43.772071</td>\n",
       "      <td>-79.251460</td>\n",
       "      <td>Scarborough</td>\n",
       "      <td>Woburn North</td>\n",
       "    </tr>\n",
       "  </tbody>\n",
       "</table>\n",
       "</div>"
      ],
      "text/plain": [
       "          Prediction   Latitude  Longitude        DISTRICT  \\\n",
       "0      Junction Area  43.664412 -79.458736      North York   \n",
       "1      Humber Summit  43.628871 -79.516948  Etobicoke York   \n",
       "2    Oakwood Village  43.689456 -79.439487      North York   \n",
       "3  Humber Bay Shores  43.614878 -79.488620  Etobicoke York   \n",
       "4       Woburn North  43.772071 -79.251460     Scarborough   \n",
       "\n",
       "                ACTUAL  \n",
       "0        Junction Area  \n",
       "1  Stonegate-Queensway  \n",
       "2      Oakwood Village  \n",
       "3    Humber Bay Shores  \n",
       "4         Woburn North  "
      ]
     },
     "execution_count": 19,
     "metadata": {},
     "output_type": "execute_result"
    }
   ],
   "source": [
    "# Assuming X_test was a subset of KSI_df and you have its indices\n",
    "test_indices = X_temp.index  # Get the indices of X_test rows in KSI_df\n",
    "\n",
    "# Now, extract the corresponding 'LATITUDE' and 'LONGITUDE' from KSI_df using these indices\n",
    "matching_rows = KSI_df.loc[test_indices, ['LATITUDE', 'LONGITUDE']] # Get lat/lon for the test set rows\n",
    "\n",
    "# Create a DataFrame with the predictions and corresponding lat/lon values\n",
    "predicted_df = pd.DataFrame({\n",
    "    'Prediction': predictions,\n",
    "    'Latitude': matching_rows['LATITUDE'].values,\n",
    "    'Longitude': matching_rows['LONGITUDE'].values,\n",
    "      \n",
    "})\n",
    "\n",
    "predicted_df['DISTRICT'] = district_column.loc[test_indices].values\n",
    "# Add the actual target values from KSI_df (for comparison with predictions)\n",
    "predicted_df['ACTUAL'] = KSI_df.loc[test_indices, 'NEIGHBOURHOOD_158'].values\n",
    "predicted_df.head(5)"
   ]
  },
  {
   "cell_type": "code",
   "execution_count": 20,
   "id": "180b8178-1e29-4cd8-8f41-7b7edb2429a8",
   "metadata": {},
   "outputs": [],
   "source": [
    "excel_filename = \"predicted_data.xlsx\"\n",
    "predicted_df.to_excel(excel_filename)"
   ]
  }
 ],
 "metadata": {
  "kernelspec": {
   "display_name": "Python 3 (ipykernel)",
   "language": "python",
   "name": "python3"
  },
  "language_info": {
   "codemirror_mode": {
    "name": "ipython",
    "version": 3
   },
   "file_extension": ".py",
   "mimetype": "text/x-python",
   "name": "python",
   "nbconvert_exporter": "python",
   "pygments_lexer": "ipython3",
   "version": "3.12.10"
  }
 },
 "nbformat": 4,
 "nbformat_minor": 5
}
