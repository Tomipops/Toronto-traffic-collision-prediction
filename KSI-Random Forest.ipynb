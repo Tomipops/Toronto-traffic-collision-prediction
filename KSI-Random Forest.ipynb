{
 "cells": [
  {
   "cell_type": "code",
   "execution_count": 1,
   "id": "1ad35920-7ab6-43e1-876b-1084fbd5ba87",
   "metadata": {},
   "outputs": [],
   "source": [
    "import pandas as pd\n",
    "import numpy as np\n",
    "import seaborn as sns\n",
    "import matplotlib.pyplot as plt\n",
    "import warnings\n",
    "warnings.filterwarnings(\"ignore\")\n",
    "from sklearn.model_selection import learning_curve\n",
    "from sklearn.model_selection import GridSearchCV,RandomizedSearchCV\n",
    "from sklearn import metrics \n",
    "#from sklearn.preprocessing import LabelEncoder\n",
    "from sklearn.impute import SimpleImputer\n",
    "from sklearn.ensemble import RandomForestClassifier\n",
    "from sklearn.metrics import accuracy_score, classification_report\n",
    "from sklearn.model_selection import train_test_split\n",
    "from scipy.stats import randint"
   ]
  },
  {
   "cell_type": "markdown",
   "id": "6e779fbe-16b9-4b79-9e60-d89c5ff176ae",
   "metadata": {},
   "source": [
    "## DATA PREPROCESSING ##"
   ]
  },
  {
   "cell_type": "markdown",
   "id": "a777ef2c-af62-4b33-809f-a51436d7e467",
   "metadata": {},
   "source": [
    "<h3 align=\"center\">Load Data</h3>"
   ]
  },
  {
   "cell_type": "code",
   "execution_count": 2,
   "id": "b3672317-8c76-4b30-9e69-a836e517ea9a",
   "metadata": {},
   "outputs": [],
   "source": [
    "KSI_df= pd.read_csv('TOTAL_KSI_USE.csv',index_col=0)"
   ]
  },
  {
   "cell_type": "code",
   "execution_count": 3,
   "id": "ac31361f-99e4-4b3e-9811-c26a49b18fbd",
   "metadata": {},
   "outputs": [
    {
     "name": "stdout",
     "output_type": "stream",
     "text": [
      "<class 'pandas.core.frame.DataFrame'>\n",
      "Index: 4739 entries, 14218 to 18956\n",
      "Data columns (total 16 columns):\n",
      " #   Column             Non-Null Count  Dtype  \n",
      "---  ------             --------------  -----  \n",
      " 0   DATE               4739 non-null   object \n",
      " 1   STREET1            4739 non-null   object \n",
      " 2   STREET2            4293 non-null   object \n",
      " 3   DISTRICT           4524 non-null   object \n",
      " 4   LATITUDE           4739 non-null   float64\n",
      " 5   LONGITUDE          4739 non-null   float64\n",
      " 6   TRAFFCTL           4693 non-null   object \n",
      " 7   VISIBILITY         4717 non-null   object \n",
      " 8   LIGHT              4735 non-null   object \n",
      " 9   RDSFCOND           4717 non-null   object \n",
      " 10  ACCLASS            4738 non-null   object \n",
      " 11  IMPACTYPE          4712 non-null   object \n",
      " 12  INVTYPE            4730 non-null   object \n",
      " 13  INVAGE             4739 non-null   object \n",
      " 14  INJURY             2690 non-null   object \n",
      " 15  NEIGHBOURHOOD_158  4739 non-null   object \n",
      "dtypes: float64(2), object(14)\n",
      "memory usage: 629.4+ KB\n"
     ]
    }
   ],
   "source": [
    "KSI_df.info()\n",
    "# remove trailing spaces from column names \n",
    "KSI_df.columns = KSI_df.columns.str.strip()"
   ]
  },
  {
   "cell_type": "markdown",
   "id": "633ba17f-bba4-4442-b905-52f39caf8700",
   "metadata": {},
   "source": [
    "<h3 align=\"center\">Drop Column</h3>"
   ]
  },
  {
   "cell_type": "code",
   "execution_count": 4,
   "id": "2ba1ea7c-a6c0-40a5-b72e-c1f73f4555b2",
   "metadata": {},
   "outputs": [],
   "source": [
    "# Convert to Datetime\n",
    "KSI_df= KSI_df.drop('DATE', axis =1)"
   ]
  },
  {
   "cell_type": "markdown",
   "id": "6a1cb76c-136d-463f-acdb-c363e48f6ac5",
   "metadata": {},
   "source": [
    "<h3 align=\"center\">Checking for Missing Values</h3>"
   ]
  },
  {
   "cell_type": "code",
   "execution_count": 5,
   "id": "7aacfa64-edba-491b-8ecd-b4af73e30879",
   "metadata": {},
   "outputs": [
    {
     "data": {
      "text/plain": [
       "STREET1               0.0000\n",
       "STREET2               9.4113\n",
       "DISTRICT              4.5368\n",
       "LATITUDE              0.0000\n",
       "LONGITUDE             0.0000\n",
       "TRAFFCTL              0.9707\n",
       "VISIBILITY            0.4642\n",
       "LIGHT                 0.0844\n",
       "RDSFCOND              0.4642\n",
       "ACCLASS               0.0211\n",
       "IMPACTYPE             0.5697\n",
       "INVTYPE               0.1899\n",
       "INVAGE                0.0000\n",
       "INJURY               43.2370\n",
       "NEIGHBOURHOOD_158     0.0000\n",
       "dtype: float64"
      ]
     },
     "execution_count": 5,
     "metadata": {},
     "output_type": "execute_result"
    }
   ],
   "source": [
    "# Assess the percentage of null values\n",
    "null_values = round((KSI_df.isnull().sum()/KSI_df.shape[0])*100,4)\n",
    "null_values"
   ]
  },
  {
   "cell_type": "markdown",
   "id": "441488b7-40ae-4f10-aa6b-6a47ea0e4033",
   "metadata": {},
   "source": [
    "<h3 align=\"center\">Check Duplicates</h3>"
   ]
  },
  {
   "cell_type": "code",
   "execution_count": 6,
   "id": "9abfdcdf-f889-4306-a978-08906e6e0803",
   "metadata": {},
   "outputs": [
    {
     "name": "stdout",
     "output_type": "stream",
     "text": [
      "The total number of duplicated rows are: 111\n"
     ]
    }
   ],
   "source": [
    "#Check for duplicate values\n",
    "total_duplicates = KSI_df.duplicated().head(18957).sum()\n",
    "print(\"The total number of duplicated rows are:\", total_duplicates)"
   ]
  },
  {
   "cell_type": "markdown",
   "id": "b5dc229c-04ab-4a82-b930-b14094d077ea",
   "metadata": {},
   "source": [
    "<h3 align=\"center\">Drop Duplicates</h3>"
   ]
  },
  {
   "cell_type": "code",
   "execution_count": 7,
   "id": "73c17412-492e-4a7c-9f36-8fb482a1ff57",
   "metadata": {},
   "outputs": [
    {
     "name": "stdout",
     "output_type": "stream",
     "text": [
      "The total number of duplicated rows are: 0\n"
     ]
    }
   ],
   "source": [
    "#Remove duplicated values\n",
    "KSI_df = KSI_df.drop_duplicates()\n",
    "total_duplicates = KSI_df.duplicated().head(18957).sum()\n",
    "print(\"The total number of duplicated rows are:\", total_duplicates)"
   ]
  },
  {
   "cell_type": "markdown",
   "id": "bffdbb66-932f-4fd2-90ad-569f35d2134d",
   "metadata": {},
   "source": [
    "<h3 align=\"center\">Assess Skewness</h3>"
   ]
  },
  {
   "cell_type": "code",
   "execution_count": 8,
   "id": "028000c0-d331-4bc5-84a1-c9e49e8c59eb",
   "metadata": {},
   "outputs": [
    {
     "name": "stdout",
     "output_type": "stream",
     "text": [
      "The skewness for numerical colums are: LATITUDE     0.256617\n",
      "LONGITUDE    0.114678\n",
      "dtype: float64\n"
     ]
    }
   ],
   "source": [
    "#Check if numerical columns are normal\n",
    "num_col = [col for col in KSI_df.columns if (KSI_df[col].dtype != 'object')& (KSI_df[col].dtype != 'datetime64[ns]') ]\n",
    "skew = KSI_df[num_col].skew()\n",
    "\n",
    "print('The skewness for numerical colums are:', skew)"
   ]
  },
  {
   "cell_type": "markdown",
   "id": "794332a0-398c-4fb6-9709-775c76ee511c",
   "metadata": {},
   "source": [
    "**No columns are skewed given its less than 0.5**"
   ]
  },
  {
   "cell_type": "markdown",
   "id": "c547f58d-f512-4f63-b6a4-c5a693d7a47b",
   "metadata": {},
   "source": [
    "<h3 align=\"center\">Visualizing Skewness</h3>"
   ]
  },
  {
   "cell_type": "code",
   "execution_count": 9,
   "id": "99f7ad7e-7061-4b05-b082-46ad80e8f44e",
   "metadata": {},
   "outputs": [
    {
     "data": {
      "image/png": "[encoded data removed]",
      "text/plain": [
       "<Figure size 1200x800 with 2 Axes>"
      ]
     },
     "metadata": {},
     "output_type": "display_data"
    }
   ],
   "source": [
    "fig,axes = plt.subplots(1, 2,figsize=(12, 8)) \n",
    "\n",
    "#Create a histogram for the entire DataFrame\n",
    "sns.histplot(KSI_df['LATITUDE'],ax=axes[0],kde=True, color='green', bins=30).set_title('Distribution of LATITUDE')\n",
    "sns.histplot(KSI_df['LONGITUDE'],ax=axes[1],kde=True, color='purple', bins=30).set_title('Distribution of LONGITUDE')\n",
    "\n",
    "\n",
    "# Show the plot\n",
    "plt.show()"
   ]
  },
  {
   "cell_type": "markdown",
   "id": "d2d15181-767e-41ff-9480-06a029b3db4e",
   "metadata": {},
   "source": [
    "<h3 align=\"center\">Check for Outliers</h3>"
   ]
  },
  {
   "cell_type": "code",
   "execution_count": 10,
   "id": "750d609a-af99-4efa-bb4f-55441c98fb72",
   "metadata": {},
   "outputs": [
    {
     "data": {
      "image/png": "[encoded data removed]",
      "text/plain": [
       "<Figure size 2000x800 with 2 Axes>"
      ]
     },
     "metadata": {},
     "output_type": "display_data"
    }
   ],
   "source": [
    "#Check for Outliers\n",
    "fig, axes = plt.subplots(1, 2,figsize=(20, 8)) \n",
    "\n",
    "#Create a box plot for the entire DataFrame\n",
    "sns.boxplot(KSI_df['LATITUDE'],ax=axes[0]).set_title('Latitude')\n",
    "sns.boxplot(KSI_df['LONGITUDE'],ax=axes[1]).set_title('Longitude')\n",
    "\n",
    "# Show the plot\n",
    "plt.show()"
   ]
  },
  {
   "cell_type": "markdown",
   "id": "97a03ce6-45eb-4cc0-a8bd-effae60d38c7",
   "metadata": {},
   "source": [
    "## FEATURE ENGINEERING ##"
   ]
  },
  {
   "cell_type": "markdown",
   "id": "7b56ec0a-99d7-4e36-9d65-0c5ebf79271f",
   "metadata": {},
   "source": [
    "<h3 align=\"center\">Modal Imputation</h3>"
   ]
  },
  {
   "cell_type": "code",
   "execution_count": 11,
   "id": "3f9a7ec2-108b-4511-8720-b9b85cf45c22",
   "metadata": {},
   "outputs": [],
   "source": [
    "#For object columns with null values, do modal imputation using Simple Imputer\n",
    "obj_col = [col for col in KSI_df.columns if KSI_df[col].dtype == 'object']\n",
    "\n",
    "# The Imputer object uses the mode strategy as data is categorical\n",
    "imputer = SimpleImputer(strategy ='most_frequent')\n",
    "\n",
    "# Fitting the data to the imputer object\n",
    "KSI_df[obj_col] = imputer.fit_transform(KSI_df[obj_col])"
   ]
  },
  {
   "cell_type": "markdown",
   "id": "46220f21-643b-443a-852c-c7f018e0f197",
   "metadata": {},
   "source": [
    "<h3 align=\"center\">Check Missing Values After Imputation</h3>"
   ]
  },
  {
   "cell_type": "code",
   "execution_count": 12,
   "id": "cd2804b7-0098-4b6c-86ea-5fc1a3f789c6",
   "metadata": {},
   "outputs": [
    {
     "data": {
      "text/plain": [
       "STREET1              0.0\n",
       "STREET2              0.0\n",
       "DISTRICT             0.0\n",
       "LATITUDE             0.0\n",
       "LONGITUDE            0.0\n",
       "TRAFFCTL             0.0\n",
       "VISIBILITY           0.0\n",
       "LIGHT                0.0\n",
       "RDSFCOND             0.0\n",
       "ACCLASS              0.0\n",
       "IMPACTYPE            0.0\n",
       "INVTYPE              0.0\n",
       "INVAGE               0.0\n",
       "INJURY               0.0\n",
       "NEIGHBOURHOOD_158    0.0\n",
       "dtype: float64"
      ]
     },
     "execution_count": 12,
     "metadata": {},
     "output_type": "execute_result"
    }
   ],
   "source": [
    "# Assess the percentage of null values\n",
    "null_values = round((KSI_df.isnull().sum()/KSI_df.shape[0])*100,4)\n",
    "null_values"
   ]
  },
  {
   "cell_type": "markdown",
   "id": "5d09b954-1dd9-49ca-b95a-6283f2a44135",
   "metadata": {},
   "source": [
    "<h3 align=\"center\">One Hot Encoding</h3>"
   ]
  },
  {
   "cell_type": "code",
   "execution_count": 13,
   "id": "d7402d5a-d0c6-4b42-bdf8-67b0b265f286",
   "metadata": {},
   "outputs": [],
   "source": [
    "#Identify all independent variables\n",
    "independent_variables = [col for col in KSI_df.columns if col != 'NEIGHBOURHOOD_158']\n",
    "\n",
    "#Onehot encoding for independent variables only\n",
    "KSI_df = pd.get_dummies(KSI_df, columns= independent_variables,drop_first=True)\n",
    "\n",
    "#Identify dummy columns and convert boolean values to integers\n",
    "dummy_col = [col for col in KSI_df.columns if KSI_df[col].dtype == 'bool']\n",
    "KSI_df[dummy_col] = KSI_df[dummy_col].astype(int)\n",
    "\n",
    "\n"
   ]
  },
  {
   "cell_type": "code",
   "execution_count": 14,
   "id": "8163f4d4-741c-4985-9d48-395362e9026a",
   "metadata": {},
   "outputs": [
    {
     "data": {
      "text/html": [
       "<div>\n",
       "<style scoped>\n",
       "    .dataframe tbody tr th:only-of-type {\n",
       "        vertical-align: middle;\n",
       "    }\n",
       "\n",
       "    .dataframe tbody tr th {\n",
       "        vertical-align: top;\n",
       "    }\n",
       "\n",
       "    .dataframe thead th {\n",
       "        text-align: right;\n",
       "    }\n",
       "</style>\n",
       "<table border=\"1\" class=\"dataframe\">\n",
       "  <thead>\n",
       "    <tr style=\"text-align: right;\">\n",
       "      <th></th>\n",
       "      <th>NEIGHBOURHOOD_158</th>\n",
       "      <th>STREET1_100 MCLEVIN AVE</th>\n",
       "      <th>STREET1_1035 SHEPPARD AVE W</th>\n",
       "      <th>STREET1_106 BEECH AVE</th>\n",
       "      <th>STREET1_106 LAWRENCE  AVE E</th>\n",
       "      <th>STREET1_107 THE QUEENSWAY</th>\n",
       "      <th>STREET1_1085 ROYAL YORK RD</th>\n",
       "      <th>STREET1_109 DOWNSVIEW  AVE</th>\n",
       "      <th>STREET1_1100 QUEEN ST W</th>\n",
       "      <th>STREET1_111 BOND ST</th>\n",
       "      <th>...</th>\n",
       "      <th>INVAGE_70 to 74</th>\n",
       "      <th>INVAGE_75 to 79</th>\n",
       "      <th>INVAGE_80 to 84</th>\n",
       "      <th>INVAGE_85 to 89</th>\n",
       "      <th>INVAGE_90 to 94</th>\n",
       "      <th>INVAGE_Over 95</th>\n",
       "      <th>INVAGE_unknown</th>\n",
       "      <th>INJURY_Major</th>\n",
       "      <th>INJURY_Minimal</th>\n",
       "      <th>INJURY_Minor</th>\n",
       "    </tr>\n",
       "  </thead>\n",
       "  <tbody>\n",
       "    <tr>\n",
       "      <th>14218</th>\n",
       "      <td>Leaside-Bennington</td>\n",
       "      <td>0</td>\n",
       "      <td>0</td>\n",
       "      <td>0</td>\n",
       "      <td>0</td>\n",
       "      <td>0</td>\n",
       "      <td>0</td>\n",
       "      <td>0</td>\n",
       "      <td>0</td>\n",
       "      <td>0</td>\n",
       "      <td>...</td>\n",
       "      <td>0</td>\n",
       "      <td>0</td>\n",
       "      <td>0</td>\n",
       "      <td>0</td>\n",
       "      <td>0</td>\n",
       "      <td>0</td>\n",
       "      <td>0</td>\n",
       "      <td>0</td>\n",
       "      <td>0</td>\n",
       "      <td>0</td>\n",
       "    </tr>\n",
       "    <tr>\n",
       "      <th>14219</th>\n",
       "      <td>Malvern East</td>\n",
       "      <td>0</td>\n",
       "      <td>0</td>\n",
       "      <td>0</td>\n",
       "      <td>0</td>\n",
       "      <td>0</td>\n",
       "      <td>0</td>\n",
       "      <td>0</td>\n",
       "      <td>0</td>\n",
       "      <td>0</td>\n",
       "      <td>...</td>\n",
       "      <td>0</td>\n",
       "      <td>0</td>\n",
       "      <td>0</td>\n",
       "      <td>0</td>\n",
       "      <td>0</td>\n",
       "      <td>0</td>\n",
       "      <td>0</td>\n",
       "      <td>1</td>\n",
       "      <td>0</td>\n",
       "      <td>0</td>\n",
       "    </tr>\n",
       "    <tr>\n",
       "      <th>14220</th>\n",
       "      <td>Malvern East</td>\n",
       "      <td>0</td>\n",
       "      <td>0</td>\n",
       "      <td>0</td>\n",
       "      <td>0</td>\n",
       "      <td>0</td>\n",
       "      <td>0</td>\n",
       "      <td>0</td>\n",
       "      <td>0</td>\n",
       "      <td>0</td>\n",
       "      <td>...</td>\n",
       "      <td>0</td>\n",
       "      <td>1</td>\n",
       "      <td>0</td>\n",
       "      <td>0</td>\n",
       "      <td>0</td>\n",
       "      <td>0</td>\n",
       "      <td>0</td>\n",
       "      <td>0</td>\n",
       "      <td>1</td>\n",
       "      <td>0</td>\n",
       "    </tr>\n",
       "    <tr>\n",
       "      <th>14223</th>\n",
       "      <td>Malvern East</td>\n",
       "      <td>0</td>\n",
       "      <td>0</td>\n",
       "      <td>0</td>\n",
       "      <td>0</td>\n",
       "      <td>0</td>\n",
       "      <td>0</td>\n",
       "      <td>0</td>\n",
       "      <td>0</td>\n",
       "      <td>0</td>\n",
       "      <td>...</td>\n",
       "      <td>0</td>\n",
       "      <td>0</td>\n",
       "      <td>0</td>\n",
       "      <td>0</td>\n",
       "      <td>0</td>\n",
       "      <td>0</td>\n",
       "      <td>0</td>\n",
       "      <td>1</td>\n",
       "      <td>0</td>\n",
       "      <td>0</td>\n",
       "    </tr>\n",
       "    <tr>\n",
       "      <th>14224</th>\n",
       "      <td>Malvern East</td>\n",
       "      <td>0</td>\n",
       "      <td>0</td>\n",
       "      <td>0</td>\n",
       "      <td>0</td>\n",
       "      <td>0</td>\n",
       "      <td>0</td>\n",
       "      <td>0</td>\n",
       "      <td>0</td>\n",
       "      <td>0</td>\n",
       "      <td>...</td>\n",
       "      <td>0</td>\n",
       "      <td>1</td>\n",
       "      <td>0</td>\n",
       "      <td>0</td>\n",
       "      <td>0</td>\n",
       "      <td>0</td>\n",
       "      <td>0</td>\n",
       "      <td>0</td>\n",
       "      <td>1</td>\n",
       "      <td>0</td>\n",
       "    </tr>\n",
       "  </tbody>\n",
       "</table>\n",
       "<p>5 rows × 5345 columns</p>\n",
       "</div>"
      ],
      "text/plain": [
       "        NEIGHBOURHOOD_158  STREET1_100 MCLEVIN AVE  \\\n",
       "14218  Leaside-Bennington                        0   \n",
       "14219        Malvern East                        0   \n",
       "14220        Malvern East                        0   \n",
       "14223        Malvern East                        0   \n",
       "14224        Malvern East                        0   \n",
       "\n",
       "       STREET1_1035 SHEPPARD AVE W  STREET1_106 BEECH AVE  \\\n",
       "14218                            0                      0   \n",
       "14219                            0                      0   \n",
       "14220                            0                      0   \n",
       "14223                            0                      0   \n",
       "14224                            0                      0   \n",
       "\n",
       "       STREET1_106 LAWRENCE  AVE E  STREET1_107 THE QUEENSWAY  \\\n",
       "14218                            0                          0   \n",
       "14219                            0                          0   \n",
       "14220                            0                          0   \n",
       "14223                            0                          0   \n",
       "14224                            0                          0   \n",
       "\n",
       "       STREET1_1085 ROYAL YORK RD  STREET1_109 DOWNSVIEW  AVE  \\\n",
       "14218                           0                           0   \n",
       "14219                           0                           0   \n",
       "14220                           0                           0   \n",
       "14223                           0                           0   \n",
       "14224                           0                           0   \n",
       "\n",
       "       STREET1_1100 QUEEN ST W  STREET1_111 BOND ST  ...  INVAGE_70 to 74  \\\n",
       "14218                        0                    0  ...                0   \n",
       "14219                        0                    0  ...                0   \n",
       "14220                        0                    0  ...                0   \n",
       "14223                        0                    0  ...                0   \n",
       "14224                        0                    0  ...                0   \n",
       "\n",
       "       INVAGE_75 to 79  INVAGE_80 to 84  INVAGE_85 to 89  INVAGE_90 to 94  \\\n",
       "14218                0                0                0                0   \n",
       "14219                0                0                0                0   \n",
       "14220                1                0                0                0   \n",
       "14223                0                0                0                0   \n",
       "14224                1                0                0                0   \n",
       "\n",
       "       INVAGE_Over 95  INVAGE_unknown  INJURY_Major  INJURY_Minimal  \\\n",
       "14218               0               0             0               0   \n",
       "14219               0               0             1               0   \n",
       "14220               0               0             0               1   \n",
       "14223               0               0             1               0   \n",
       "14224               0               0             0               1   \n",
       "\n",
       "       INJURY_Minor  \n",
       "14218             0  \n",
       "14219             0  \n",
       "14220             0  \n",
       "14223             0  \n",
       "14224             0  \n",
       "\n",
       "[5 rows x 5345 columns]"
      ]
     },
     "execution_count": 14,
     "metadata": {},
     "output_type": "execute_result"
    }
   ],
   "source": [
    "KSI_df.head(5)"
   ]
  },
  {
   "cell_type": "markdown",
   "id": "20d659fd-9ccd-456b-9b89-63448f6a8d09",
   "metadata": {},
   "source": [
    "## RANDOM FOREST CLASSIFIER MODEL ##"
   ]
  },
  {
   "cell_type": "markdown",
   "id": "36861a98-fad5-4a6a-896a-02c2000f61d0",
   "metadata": {},
   "source": [
    "<h3 align=\"center\">Train, Validation and Test Split</h3>"
   ]
  },
  {
   "cell_type": "code",
   "execution_count": 15,
   "id": "4a3d1e01-a5c9-413b-bf8c-c49583a1cf72",
   "metadata": {},
   "outputs": [],
   "source": [
    "#Identify all independent variables\n",
    "independent_variables = [col for col in KSI_df.columns if col != 'NEIGHBOURHOOD_158']\n",
    "\n",
    "#Independent variables\n",
    "X = KSI_df[independent_variables]\n",
    "\n",
    "#Dependent variable\n",
    "y = KSI_df['NEIGHBOURHOOD_158']\n",
    "\n",
    "# 80 % training data and 20% allocated to the temporary set which will be split into validation and test\n",
    "X_train, X_temp, y_train, y_temp = train_test_split(X, y, test_size = 0.30, random_state=42)\n",
    "\n",
    "# Further split temporary set which was 30% of the original set into validation and test set\n",
    "X_val, X_test, y_val, y_test = train_test_split(X_temp, y_temp, test_size = 0.50, random_state=42)\n",
    "\n"
   ]
  },
  {
   "cell_type": "markdown",
   "id": "ee5d57e6-220a-49cd-b635-c08a17790f77",
   "metadata": {},
   "source": [
    "<h3 align=\"center\">Hyperparameter Tuning</h3>"
   ]
  },
  {
   "cell_type": "code",
   "execution_count": 16,
   "id": "4e758fd9-2388-4aaf-91a6-1ec77dd53a57",
   "metadata": {},
   "outputs": [
    {
     "name": "stdout",
     "output_type": "stream",
     "text": [
      "RandomForestClassifier(max_samples=0.8, min_samples_split=3, n_estimators=10)\n"
     ]
    }
   ],
   "source": [
    "param_grid = {\n",
    "    'n_estimators': [10, 50,100],  # Number of trees\n",
    "    'max_depth': [3, 5,10, None],  # Maximum depth of trees\n",
    "    'min_samples_split': [1,2,3],\n",
    "    'min_samples_leaf': [1,2,3],\n",
    "    'max_features': ['sqrt','log2',None],  # Number of features to consider\n",
    "    'max_samples': [0.8],\n",
    "}\n",
    "\n",
    "random_search = RandomizedSearchCV(RandomForestClassifier(),param_grid, scoring='accuracy',random_state=10)\n",
    "random_search.fit(X_train, y_train)\n",
    "optimal_model = random_search.best_estimator_\n",
    "print(random_search.best_estimator_)\n",
    "\n",
    "\n"
   ]
  },
  {
   "cell_type": "markdown",
   "id": "0a184134-5be5-4044-94a8-605d01ed5929",
   "metadata": {},
   "source": [
    "<h3 align=\"center\">Model Implementation</h3>"
   ]
  },
  {
   "cell_type": "code",
   "execution_count": 17,
   "id": "64317c80-5608-4308-875e-b71d704455f0",
   "metadata": {
    "scrolled": true
   },
   "outputs": [],
   "source": [
    "# creating a RF classifier\n",
    "clf = RandomForestClassifier(max_samples=0.8, min_samples_split=3, n_estimators=10,random_state= 10)\n",
    "# Training the model on the training dataset\n",
    "model= clf.fit(X_train, y_train)\n",
    "\n"
   ]
  },
  {
   "cell_type": "markdown",
   "id": "6fe48312-ea8a-4309-89ba-bb6054e83d95",
   "metadata": {},
   "source": [
    "<h3 align=\"center\">Validation Testing</h3>"
   ]
  },
  {
   "cell_type": "code",
   "execution_count": 18,
   "id": "eee71e71-18ae-4e0b-833e-cc1fa5b3f202",
   "metadata": {},
   "outputs": [
    {
     "name": "stdout",
     "output_type": "stream",
     "text": [
      "Validation Accuracy: 0.8300\n"
     ]
    }
   ],
   "source": [
    "y_val_pred = clf.predict(X_val)\n",
    "\n",
    "#Assess accuracy of validation set\n",
    "validation_accuracy = metrics.accuracy_score(y_val, y_val_pred)\n",
    "print(f\"Validation Accuracy: {validation_accuracy:.4f}\")\n"
   ]
  },
  {
   "cell_type": "markdown",
   "id": "ccffcae0-f579-488b-99a0-69d5711fde4b",
   "metadata": {},
   "source": [
    "<h3 align=\"center\">Model Prediction</h3>"
   ]
  },
  {
   "cell_type": "code",
   "execution_count": 19,
   "id": "02d18e6f-cbf8-460b-9aef-904db065e28c",
   "metadata": {},
   "outputs": [],
   "source": [
    "# Predict using the reduced test set\n",
    "y_pred = clf.predict(X_test)\n"
   ]
  },
  {
   "cell_type": "code",
   "execution_count": 20,
   "id": "a323b372-2138-4d1c-b1bd-6f2fa7be6d25",
   "metadata": {},
   "outputs": [
    {
     "name": "stdout",
     "output_type": "stream",
     "text": [
      "Accuracy of Model Test: 81.87 %\n"
     ]
    }
   ],
   "source": [
    "# using metrics module for accuracy calculation\n",
    "print(\"Accuracy of Model Test:\", round(metrics.accuracy_score(y_test, y_pred)*100,2),\"%\")\n"
   ]
  },
  {
   "cell_type": "code",
   "execution_count": 21,
   "id": "261b4b89-4614-4272-af5d-9d353a6ddbeb",
   "metadata": {},
   "outputs": [
    {
     "data": {
      "text/html": [
       "<div>\n",
       "<style scoped>\n",
       "    .dataframe tbody tr th:only-of-type {\n",
       "        vertical-align: middle;\n",
       "    }\n",
       "\n",
       "    .dataframe tbody tr th {\n",
       "        vertical-align: top;\n",
       "    }\n",
       "\n",
       "    .dataframe thead th {\n",
       "        text-align: right;\n",
       "    }\n",
       "</style>\n",
       "<table border=\"1\" class=\"dataframe\">\n",
       "  <thead>\n",
       "    <tr style=\"text-align: right;\">\n",
       "      <th></th>\n",
       "      <th>Predicted</th>\n",
       "      <th>Test</th>\n",
       "    </tr>\n",
       "  </thead>\n",
       "  <tbody>\n",
       "    <tr>\n",
       "      <th>685</th>\n",
       "      <td>Fort York-Liberty Village</td>\n",
       "      <td>Fort York-Liberty Village</td>\n",
       "    </tr>\n",
       "    <tr>\n",
       "      <th>686</th>\n",
       "      <td>West Humber-Clairville</td>\n",
       "      <td>West Humber-Clairville</td>\n",
       "    </tr>\n",
       "    <tr>\n",
       "      <th>687</th>\n",
       "      <td>Centennial Scarborough</td>\n",
       "      <td>Centennial Scarborough</td>\n",
       "    </tr>\n",
       "    <tr>\n",
       "      <th>688</th>\n",
       "      <td>Yonge-Eglinton</td>\n",
       "      <td>Yonge-Eglinton</td>\n",
       "    </tr>\n",
       "    <tr>\n",
       "      <th>689</th>\n",
       "      <td>Mimico-Queensway</td>\n",
       "      <td>Mimico-Queensway</td>\n",
       "    </tr>\n",
       "    <tr>\n",
       "      <th>690</th>\n",
       "      <td>Milliken</td>\n",
       "      <td>Milliken</td>\n",
       "    </tr>\n",
       "    <tr>\n",
       "      <th>691</th>\n",
       "      <td>St Lawrence-East Bayfront-The Islands</td>\n",
       "      <td>East Willowdale</td>\n",
       "    </tr>\n",
       "    <tr>\n",
       "      <th>692</th>\n",
       "      <td>Clairlea-Birchmount</td>\n",
       "      <td>Clairlea-Birchmount</td>\n",
       "    </tr>\n",
       "    <tr>\n",
       "      <th>693</th>\n",
       "      <td>Kensington-Chinatown</td>\n",
       "      <td>Trinity-Bellwoods</td>\n",
       "    </tr>\n",
       "    <tr>\n",
       "      <th>694</th>\n",
       "      <td>Mimico-Queensway</td>\n",
       "      <td>Mimico-Queensway</td>\n",
       "    </tr>\n",
       "  </tbody>\n",
       "</table>\n",
       "</div>"
      ],
      "text/plain": [
       "                                 Predicted                       Test\n",
       "685              Fort York-Liberty Village  Fort York-Liberty Village\n",
       "686                 West Humber-Clairville     West Humber-Clairville\n",
       "687                 Centennial Scarborough     Centennial Scarborough\n",
       "688                         Yonge-Eglinton             Yonge-Eglinton\n",
       "689                       Mimico-Queensway           Mimico-Queensway\n",
       "690                               Milliken                   Milliken\n",
       "691  St Lawrence-East Bayfront-The Islands            East Willowdale\n",
       "692                    Clairlea-Birchmount        Clairlea-Birchmount\n",
       "693                   Kensington-Chinatown          Trinity-Bellwoods\n",
       "694                       Mimico-Queensway           Mimico-Queensway"
      ]
     },
     "execution_count": 21,
     "metadata": {},
     "output_type": "execute_result"
    }
   ],
   "source": [
    "y_test = y_test.reset_index(drop=True)\n",
    "y_pred = pd.Series(y_pred).reset_index(drop=True) \n",
    "\n",
    "predicted_KSI = pd.DataFrame({'Predicted':y_pred,'Test': y_test})\n",
    "predicted_KSI.tail(10)"
   ]
  },
  {
   "cell_type": "markdown",
   "id": "8184612c-4ff2-4dac-aea8-eee03601ddab",
   "metadata": {},
   "source": [
    "<h3 align=\"center\">Model Evaluation</h3>"
   ]
  },
  {
   "cell_type": "code",
   "execution_count": 22,
   "id": "1030b079-7b6d-42a0-9d0b-587950de1c96",
   "metadata": {},
   "outputs": [
    {
     "data": {
      "image/png": "[encoded data removed]",
      "text/plain": [
       "<Figure size 640x480 with 1 Axes>"
      ]
     },
     "metadata": {},
     "output_type": "display_data"
    }
   ],
   "source": [
    "train_sizes, train_scores, test_scores = learning_curve(\n",
    "   clf,X_train, y_train, scoring='accuracy',cv=5,train_sizes=np.linspace(0.01, 1.0, 50))\n",
    "# Mean and Standard Deviation of training scores \n",
    "mean_training = np.mean(train_scores, axis=1) \n",
    "Standard_Deviation_training = np.std(train_scores, axis=1) \n",
    "  \n",
    "# Mean and Standard Deviation of testing scores \n",
    "mean_testing = np.mean(test_scores, axis=1) \n",
    "Standard_Deviation_testing = np.std(test_scores, axis=1) \n",
    "\n",
    "plt.plot(train_sizes,mean_training, label=\"Training Accuracy\")\n",
    "plt.plot(train_sizes, mean_testing, label=\"Validation Accuracy\")\n",
    "plt.xlabel(\"Training Examples\")\n",
    "plt.ylabel(\"Accuracy\")\n",
    "plt.legend()\n",
    "plt.title(\"Learning Curve\")\n",
    "plt.show()"
   ]
  },
  {
   "cell_type": "markdown",
   "id": "ace0739c-a5b6-45bf-966d-b1a8da51d0af",
   "metadata": {},
   "source": [
    "**This means the model does not generalize well to new data**"
   ]
  }
 ],
 "metadata": {
  "kernelspec": {
   "display_name": "Python 3 (ipykernel)",
   "language": "python",
   "name": "python3"
  },
  "language_info": {
   "codemirror_mode": {
    "name": "ipython",
    "version": 3
   },
   "file_extension": ".py",
   "mimetype": "text/x-python",
   "name": "python",
   "nbconvert_exporter": "python",
   "pygments_lexer": "ipython3",
   "version": "3.12.10"
  }
 },
 "nbformat": 4,
 "nbformat_minor": 5
}
